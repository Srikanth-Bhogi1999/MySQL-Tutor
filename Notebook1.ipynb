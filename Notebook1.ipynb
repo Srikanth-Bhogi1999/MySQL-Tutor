{
  "nbformat": 4,
  "nbformat_minor": 0,
  "metadata": {
    "colab": {
      "provenance": [],
      "collapsed_sections": [],
      "toc_visible": true,
      "authorship_tag": "ABX9TyMXpnMsT4D0x8AVL9auxkcO",
      "include_colab_link": true
    },
    "kernelspec": {
      "name": "python3",
      "display_name": "Python 3"
    },
    "language_info": {
      "name": "python"
    }
  },
  "cells": [
    {
      "cell_type": "markdown",
      "metadata": {
        "id": "view-in-github",
        "colab_type": "text"
      },
      "source": [
        "<a href=\"https://colab.research.google.com/github/Srikanth-Bhogi1999/MySQL-Tutor/blob/main/Notebook1.ipynb\" target=\"_parent\"><img src=\"https://colab.research.google.com/assets/colab-badge.svg\" alt=\"Open In Colab\"/></a>"
      ]
    },
    {
      "cell_type": "markdown",
      "source": [
        "**INTRODUCTION TO STATISTICS**\n",
        "\n",
        "---\n",
        "**Target roles**: Data Scientist, Data Analyst, Data Engineer\n"
      ],
      "metadata": {
        "id": "hnmLCNDIxGWd"
      }
    },
    {
      "cell_type": "markdown",
      "source": [
        "# Data Set Info \n",
        "\n",
        "Dataset Info - This DataSet includes the real time gold prices(in USD) from 2012 to 2022.\n",
        "\n",
        "Date - Date on which Price is Noted\n",
        "Close - Close Price of the Gold in USD\n",
        "Volume - Sum of buy's and sell's of Gold Commodity\n",
        "open - open price of a Gold on that particular day\n",
        "High - High price of Gold on that particular day\n",
        "Low - Low price of Gold on that particular day"
      ],
      "metadata": {
        "id": "Zxniw92U2Q-c"
      }
    },
    {
      "cell_type": "code",
      "source": [
        "# import pandas module \n",
        "import pandas as pd \n",
        "\n",
        "# making dataframe this method reads comma separated values and generate dataframe from it\n",
        "df1 = pd.read_csv(\"/GoldPrices.csv\")\n",
        "print(df1) \n",
        "print(df1.describe())"
      ],
      "metadata": {
        "colab": {
          "base_uri": "https://localhost:8080/"
        },
        "id": "fe3B-N5TyHKm",
        "outputId": "8c1878ff-1f20-49d9-aa48-36ce9ef924fc"
      },
      "execution_count": null,
      "outputs": [
        {
          "output_type": "stream",
          "name": "stdout",
          "text": [
            "            Date  Close/Last    Volume    Open    High     Low\n",
            "0     10/28/2022      1648.3  186519.0  1667.2  1670.9  1640.7\n",
            "1     10/27/2022      1668.8  180599.0  1668.8  1674.8  1658.5\n",
            "2     10/26/2022      1669.2  183453.0  1657.7  1679.4  1653.8\n",
            "3     10/25/2022      1658.0  178706.0  1654.5  1666.8  1641.2\n",
            "4     10/24/2022      1654.1  167448.0  1662.9  1675.5  1648.0\n",
            "...          ...         ...       ...     ...     ...     ...\n",
            "2542  11/06/2012      1715.0  163585.0  1685.4  1720.9  1683.5\n",
            "2543  11/05/2012      1683.2  109647.0  1676.7  1686.2  1672.5\n",
            "2544  11/02/2012      1675.2  205777.0  1715.6  1717.2  1674.8\n",
            "2545  11/01/2012      1715.5  105904.0  1720.4  1727.5  1715.1\n",
            "2546  10/31/2012      1719.1  110928.0  1710.3  1726.6  1709.8\n",
            "\n",
            "[2547 rows x 6 columns]\n",
            "        Close/Last         Volume         Open         High          Low\n",
            "count  2547.000000    2508.000000  2547.000000  2547.000000  2547.000000\n",
            "mean   1437.557008  182067.668660  1437.743031  1447.083235  1427.891991\n",
            "std     255.898467   97589.342619   256.239938   257.924158   253.641116\n",
            "min    1049.600000       1.000000  1051.500000  1062.700000  1045.400000\n",
            "25%    1243.450000  120901.000000  1243.000000  1251.000000  1235.250000\n",
            "50%    1318.500000  168425.500000  1319.000000  1326.300000  1310.900000\n",
            "75%    1698.100000  231754.000000  1701.450000  1715.300000  1684.000000\n",
            "max    2069.400000  787217.000000  2076.400000  2082.100000  2049.000000\n"
          ]
        }
      ]
    },
    {
      "cell_type": "markdown",
      "source": [
        "# Statistics\n",
        "\n",
        "**What is STATISTICS?**\n",
        "It is the science of collecting, organising and analyzing data. Mostly used for decision making\n",
        "\n",
        "**What is DATA?**\n",
        "\n",
        "data can be an evidence of an event that is happened or we can say the facts that can be measured\n",
        "You have seen the dataset of gold prices\n",
        "\n",
        "TYPES of statistics - \n",
        "1. Descriptive Statistics\n",
        "2. Inferential Statistics"
      ],
      "metadata": {
        "id": "0KOSEK4U2lV9"
      }
    },
    {
      "cell_type": "markdown",
      "source": [
        "# Descriptrive Statistics\n",
        "\n",
        "Descriptive statistics are all about organising and summarising the data.\n",
        "for example,\n",
        "Age of 5 people data-{30,27,65,48,56}\n",
        "so descriptive statistics for this can be like \"What is the average age of the people?\"\n",
        "Lets get into the our dataset, here it is already organised into columns. Applying descriptive statistics for this will be like\n",
        "\n",
        "\n"
      ],
      "metadata": {
        "id": "RJOWjcWZ2tQq"
      }
    },
    {
      "cell_type": "code",
      "source": [
        "# what is average volume of gold transactions a day?\n",
        "print(\"The Average volume of Gold sold and bought a day is \",df1[\"Volume\"].mean(),\"units\")\n",
        "\n",
        "# How many days the close price of the gold was below than the average close price \n",
        "resdf=df1[df1['Close/Last'] < df1[\"Close/Last\"].mean()] \n",
        "print(\"The count of days where the closing price of gold is lower than average for that day is \",resdf[\"Close/Last\"].count(),\"Days\")"
      ],
      "metadata": {
        "id": "Vw6JsdtQ24Xp"
      },
      "execution_count": null,
      "outputs": []
    },
    {
      "cell_type": "markdown",
      "source": [
        "# Inferential Statistics\n",
        "Technique where in we use the data that we have measured to form conclusions. We don't consider the whole data(population), we use some chosen data(sample) to deduct conclusion. \n",
        "\n",
        "**Population** is the jargon used in statistics to represent the whole dataset/data, denoted by (N)\n",
        "age of people in a vizag(N)-{23,43,56,25,..}\n",
        "\n",
        "**Sample** is the jargon used in statistics, which is a part of population, the sample can be derived in multiple ways called sampling techniques which is discussed later, sample is denoted by (n)\n",
        "age of people in a vizag(N)-{23,43,56,25,..}\n",
        "age of employees in vizag(n)-{23,43,40.....}\n",
        "\n",
        "![PopulationvsSample.jpg](data:image/jpeg;base64,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)\n",
        "\n",
        "The process of choosing sample from a population is called sampling technique. Different sampling techniques are used for different problem statements.\n",
        "\n",
        "\n"
      ],
      "metadata": {
        "id": "kI8DSmP19ZJG"
      }
    },
    {
      "cell_type": "code",
      "source": [
        "# Does the avg volume of gold purchases in 10th month similar to average volume of gold purchases ? \n",
        "# here the sample is data belong to 10th month, and the technique is called stratified sampling technique \n",
        "resdf=df1[(df1['Date']>=\"10/01/2022\") & (df1['Date']>=\"10/31/2022\")]\n",
        "davg=df1[\"Volume\"].mean()\n",
        "ravg=resdf[\"Volume\"].mean()\n",
        "if(ravg<davg):\n",
        "  print(\"The average volume of gold purchases in 10th month is \",round(davg-ravg,2),\"units lower than average volume of gold purchases\")\n",
        "elif(ravg>davg):\n",
        "  print(\"The average volume of gold purchases in 10th month is \",abs(round(davg-ravg,2)),\"units greater than average volume of gold purchases\")\n",
        "else:\n",
        "  print(\"The Averages are same!\")"
      ],
      "metadata": {
        "colab": {
          "base_uri": "https://localhost:8080/"
        },
        "id": "OqKKKapPG4iN",
        "outputId": "6fcf9579-cf17-4f40-9de7-4b45cad90c68"
      },
      "execution_count": null,
      "outputs": [
        {
          "output_type": "stream",
          "name": "stdout",
          "text": [
            "The average volume of gold purchases in 10th month is  17154.74 units lower than average volume of gold purchases\n"
          ]
        }
      ]
    },
    {
      "cell_type": "markdown",
      "source": [
        "# Sampling Techniques\n",
        "\n",
        "**Simple Random Sampling**\n",
        "\n",
        "This is just deriving a sample from the population randomly, everyone in the population has equal chance to get picked."
      ],
      "metadata": {
        "id": "4NSJ8WVJM2wW"
      }
    },
    {
      "cell_type": "code",
      "source": [
        "sample_df=df1.sample(n=800) # count of rows that need to be picked\n",
        "print(sample_df)\n",
        "\n",
        "# Here the sample_df is the data that is extracted randomly from our dataset df1, sample() is the function which is capable to do so \n",
        "print(\"\\n\\n\\nThe average open cost of gold in the sample derived is \",round(sample_df[\"Open\"].mean(),3))\n",
        "print(\"Where as the dataset's average open cost of gold is \",round(df1[\"Open\"].mean(),3))"
      ],
      "metadata": {
        "id": "-sI5IUrQN6NU"
      },
      "execution_count": null,
      "outputs": []
    },
    {
      "cell_type": "markdown",
      "source": [
        "**Stratified Sampling**\n",
        "\n",
        "The word stratified mean layering or grouping, here in the stratified sampling the population is split into some non-overlapping groups for example a data of class students can be grouped into boys and girls, so these are 2 samples here. \n",
        "\n",
        "We have seen stratified sampling in inferential statistics example"
      ],
      "metadata": {
        "id": "6XhULlGnP-Qk"
      }
    },
    {
      "cell_type": "code",
      "source": [
        "# Does the avg volume of gold purchases in 10th month similar to average volume of gold purchases ? \n",
        "# here the sample is data belong to 10th month, and the technique is called stratified sampling technique \n",
        "resdf=df1[(df1['Date']>=\"10/01/2022\") & (df1['Date']>=\"10/31/2022\")] #sample is deriving here\n",
        "davg=df1[\"Volume\"].mean()\n",
        "ravg=resdf[\"Volume\"].mean()\n",
        "if(ravg<davg):\n",
        "  print(\"The average volume of gold purchases in 10th month is \",round(davg-ravg,2),\"units lower than average volume of gold purchases\")\n",
        "elif(ravg>davg):\n",
        "  print(\"The average volume of gold purchases in 10th month is \",abs(round(davg-ravg,2)),\"units greater than average volume of gold purchases\")\n",
        "else:\n",
        "  print(\"The Averages are same!\")"
      ],
      "metadata": {
        "id": "Ey3yHZcmQUqq"
      },
      "execution_count": null,
      "outputs": []
    },
    {
      "cell_type": "markdown",
      "source": [
        "**Systematic Sampling**\n",
        "\n",
        "Here, every nth one is picked, for example there is data of 100 rows suppose the n is 5, then 5th, 10th, 15th ..100th ones are picked and form a sample.\n",
        "    "
      ],
      "metadata": {
        "id": "X-vDvaZmQwlS"
      }
    },
    {
      "cell_type": "code",
      "source": [
        "index = [] \n",
        "for i in range(1,len(df1)+1): # adding index value so as to get the nth row from whole set\n",
        "  index.append(i)\n",
        "df1[\"index\"]=index\n",
        "nth=113\n",
        "\n",
        "sample_df=df1.loc[df1.index%nth == 0,:]\n",
        "print(sample_df)\n",
        "\n",
        "# What is the highest Gold rate in the sample data?\n",
        "print(\"\\n\\n\\nThe highest Gold rate in the sample data is \",sample_df[\"High\"].max())\n"
      ],
      "metadata": {
        "id": "MwC2d_TvQ8w8"
      },
      "execution_count": null,
      "outputs": []
    },
    {
      "cell_type": "markdown",
      "source": [
        "**Convenience Sampling**\n",
        "\n",
        "Here we pick and form a sample by a condition, for example, we have to survey on a topic related to data so here the sample will be the people who has expertise in the subject.\n"
      ],
      "metadata": {
        "id": "s3sMZGjNd_OE"
      }
    },
    {
      "cell_type": "code",
      "source": [
        "#The shop owner's lucky number is 7, so he wants to know how the price rate ends when the price rate started with a number divisible  by 7\n",
        "# The sample derived will be \n",
        "sample_df=df1.loc[df1.Open % 7 == 0,:]\n",
        "print(sample_df)\n",
        "\n",
        "print(\"\\nThe Average closing price of gold when started with a price divisible by 7 is \",round(sample_df[\"Close/Last\"].mean(),2))\n"
      ],
      "metadata": {
        "id": "eum3hR2_emmu"
      },
      "execution_count": null,
      "outputs": []
    },
    {
      "cell_type": "markdown",
      "source": [
        "# Variables, it's types, it's measurement scales\n",
        "\n",
        "**VARIABLES**\n",
        "\n",
        "Variable os a property that can take on any value.\n",
        "ex: Height\n",
        "\n",
        "**TYPES of variables**:\n",
        " 1.Quantitative Variables\n",
        " 2.Qualitative Variables/Categorical variables\n",
        "    \n",
        "**Quantitative Variables**\n",
        "\n",
        "These are the variables that can be measured, like age, marks etc, we can perform mathematical operations like Add, Subtract, Multiplication etc\n",
        "\n",
        "There are again 2 types in Quantitative Variables:    \n",
        "**1.Discrete Variables**\n",
        "In discrete variables, the value will be a whole number for example, how many pair of shoes you have? The answer for this is always whole number like i have 1 pair of shoes, i have 3 pairs of shoes etc.\n",
        "\n",
        "**2.Continuous Variables**\n",
        "The continuous variables can have any value like height weight etc, the height of a person can be 173.34 cm, 5.8 ft  etc\n",
        "    \n",
        "**Qualitative variables:**\n",
        "The qualitative variable or categorical variables have set of options which can be the values for example, Gender, Marital Status etc.\n",
        "\n",
        "\n",
        "\n",
        "**VARIABLE MEASUREMENT SCALES:**\n",
        "There are 4 measured scales\n",
        "    1.Nominal\n",
        "    2.Ordinal\n",
        "    3.Interval\n",
        "    4.Ratio\n",
        "    \n",
        "**Nominal:**\n",
        "Nominal measuremnt is a categorical/qualitative measurement, example variables for this are gender, Blood Group ,colour etc, we cannot calculate mean, mode etc for nominal variables, however nominal data can be given a frequency\n",
        "\n",
        "**Ordinal:**\n",
        "The variables like rank, satisfaction, rating etc which have a difference comparitively, ordinal data also a frequency\n",
        "Ex.\n",
        "Marks : 90 87 70 96\n",
        "Rank  : 2  3  4  1\n",
        "Here rank is said to be ordinal data\n",
        "\n",
        "**Interval & Ratio**\n",
        "Interval scales hold no true zero and can represent values below zero. For example, you can measure temperature below 0 degrees Celsius, such as -10 degrees.\n",
        "\n",
        "Ratio variables, on the other hand, never fall below zero. Height and weight measure from 0 and above, but never fall below it.\n",
        "An interval scale allows you to measure all quantitative attributes. Any measurement of interval scale can be ranked, counted, subtracted, or added, and equal intervals separate each number on the scale. However, these measurements don’t provide any sense of ratio between one another.\n",
        "\n",
        "A ratio scale has the same properties as interval scales. You can use it to add, subtract, or count measurements. Ratio scales differ by having a character of origin, which is the starting or zero-point of the scale.\n",
        "\n"
      ],
      "metadata": {
        "id": "8jtcCGbMvPOf"
      }
    },
    {
      "cell_type": "markdown",
      "source": [
        "# Frequency Distribution\n",
        "\n",
        "**FREQUENCY DISTRIBUTION** is a technique that used to represent a \n",
        "\n",
        "\n",
        "data so as to get the frequency of it for example, take a sample data\n",
        "N={1,4,2,3,5,1,2,3,1,2,3,1,5}\n",
        "\n",
        "The Frequency distribution for this would be\n",
        "\n",
        "Number   : 1 2 3 4 5\n",
        "\n",
        "Frequency: 4 3 3 1 2 \n",
        "\n",
        "Total: 13\n"
      ],
      "metadata": {
        "id": "6S2oe5PBw9ks"
      }
    },
    {
      "cell_type": "code",
      "source": [
        "#Frequency of Volume column in this dataset will be\n",
        "\n",
        "res_df=df1[\"Volume\"].value_counts()\n",
        "print(\"Value\\tFrequency\")\n",
        "print(res_df)\n",
        "print(\"\\n\\n\\n\")\n",
        "#Cumulative Frequency for the same \n",
        "df1['Cumulative_Frequency_Volume'] = df1['Volume'].cumsum()\n",
        "print(df1[[\"Volume\",\"Cumulative_Frequency_Volume\"]])\n",
        "\n",
        "\n"
      ],
      "metadata": {
        "colab": {
          "base_uri": "https://localhost:8080/"
        },
        "id": "gfZTAaFM4p_N",
        "outputId": "1552db49-55dd-4892-ecfe-0995a5331458"
      },
      "execution_count": null,
      "outputs": [
        {
          "output_type": "stream",
          "name": "stdout",
          "text": [
            "Value\tFrequency\n",
            "1.0         4\n",
            "6.0         3\n",
            "210181.0    2\n",
            "5260.0      2\n",
            "135811.0    2\n",
            "           ..\n",
            "511767.0    1\n",
            "320720.0    1\n",
            "364839.0    1\n",
            "230833.0    1\n",
            "110928.0    1\n",
            "Name: Volume, Length: 2484, dtype: int64\n",
            "\n",
            "\n",
            "\n",
            "\n",
            "        Volume  Cumulative_Frequency_Volume\n",
            "0     186519.0                     186519.0\n",
            "1     180599.0                     367118.0\n",
            "2     183453.0                     550571.0\n",
            "3     178706.0                     729277.0\n",
            "4     167448.0                     896725.0\n",
            "...        ...                          ...\n",
            "2542  163585.0                  456093457.0\n",
            "2543  109647.0                  456203104.0\n",
            "2544  205777.0                  456408881.0\n",
            "2545  105904.0                  456514785.0\n",
            "2546  110928.0                  456625713.0\n",
            "\n",
            "[2547 rows x 2 columns]\n"
          ]
        }
      ]
    }
  ]
}